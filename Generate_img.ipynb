{
  "cells": [
    {
      "cell_type": "code",
      "execution_count": 2,
      "metadata": {
        "id": "XLi-PFMWoaGa"
      },
      "outputs": [],
      "source": [
        "!pip install mplfinance\n",
        "import warnings\n",
        "warnings.filterwarnings('ignore')\n",
        "import os\n",
        "import math\n",
        "import matplotlib.pyplot as plt\n",
        "from mplfinance.original_flavor import candlestick2_ohlc\n",
        "import pandas as pd\n",
        "import numpy as np\n",
        "root_dir = ''"
      ]
    },
    {
      "cell_type": "code",
      "execution_count": null,
      "metadata": {
        "id": "WETWfUdBl0kt"
      },
      "outputs": [],
      "source": [
        "from google.colab import drive\n",
        "drive.mount('/content/drive')\n",
        "df = pd.read_csv(\"/content/drive/MyDrive/Data/dji_2009-2019.csv\")\n",
        "length = df.shape[0]\n",
        "df.head()\n",
        "seq_length = 30\n",
        "step_length = 5\n",
        "df['target_log'] = np.log(df['Close'].shift(-step_length) / df['Close'])"
      ]
    },
    {
      "cell_type": "code",
      "execution_count": 5,
      "metadata": {
        "colab": {
          "base_uri": "https://localhost:8080/"
        },
        "id": "dwYAiLCfl8iW",
        "outputId": "4d66b956-9898-4bcb-f8d2-4ded23c21f7b"
      },
      "outputs": [
        {
          "data": {
            "text/plain": [
              "((1660, 9), (553, 9), (554, 9))"
            ]
          },
          "execution_count": 5,
          "metadata": {},
          "output_type": "execute_result"
        }
      ],
      "source": [
        "train_df = df[:int(length*0.6)].copy()\n",
        "train_df.reset_index(inplace=True)\n",
        "val_df = df[int(length*0.6):int(length*0.8)].copy()\n",
        "val_df.reset_index(inplace=True)\n",
        "test_df = df.loc[int(length*0.8):].copy()\n",
        "test_df.reset_index(inplace=True)\n",
        "train_df.shape, val_df.shape, test_df.shape"
      ]
    },
    {
      "cell_type": "code",
      "execution_count": 41,
      "metadata": {
        "id": "h91oxUIEmAAp"
      },
      "outputs": [],
      "source": [
        "def draw_candlestick(df,i):\n",
        "\n",
        "    plt.figure(figsize=(1.12, 1.12), dpi=100)\n",
        "    candlestick2_ohlc(plt.subplot(211), df['Open'].values, df['High'].values,\n",
        "                    df['Low'].values, df['Close'].values, width=0.6,\n",
        "                    colorup='b', colordown='r', alpha=1)\n",
        "    plt.axis('off')\n",
        "    plt.subplot(212)\n",
        "    plt.bar(range(30), df['Volume'].values, color='g')\n",
        "    plt.axis('off')\n",
        "    plt.tight_layout()\n",
        "    plt.savefig(f\"/content/drive/MyDrive/Data/Data_img/label{[i]}.jpg\")\n"
      ]
    },
    {
      "cell_type": "code",
      "execution_count": null,
      "metadata": {
        "id": "SWO_fzUr4Hkw"
      },
      "outputs": [],
      "source": [
        "for i in range(0,length-30):\n",
        " draw_candlestick(df[i:30+i],i) \n",
        " "
      ]
    }
  ],
  "metadata": {
    "colab": {
      "provenance": []
    },
    "kernelspec": {
      "display_name": "Python 3",
      "name": "python3"
    },
    "language_info": {
      "name": "python"
    }
  },
  "nbformat": 4,
  "nbformat_minor": 0
}
